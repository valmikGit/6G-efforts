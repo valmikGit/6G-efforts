{
 "cells": [
  {
   "cell_type": "code",
   "execution_count": null,
   "metadata": {},
   "outputs": [],
   "source": [
    "import numpy as np"
   ]
  },
  {
   "cell_type": "code",
   "execution_count": null,
   "metadata": {},
   "outputs": [],
   "source": [
    "M = 64 # symbols per frame\n",
    "N = 8 # modulation order\n",
    "number_of_frames = 100\n",
    "modulation_order = 4 # bits per symbol"
   ]
  },
  {
   "cell_type": "code",
   "execution_count": null,
   "metadata": {},
   "outputs": [],
   "source": [
    "snr_db = list(range(-20, 21, 5))\n",
    "print(snr_db)"
   ]
  },
  {
   "cell_type": "code",
   "execution_count": null,
   "metadata": {},
   "outputs": [],
   "source": [
    "binary_sequence = np.random.randint(0, 2, size=64*8)\n",
    "print(binary_sequence)"
   ]
  },
  {
   "cell_type": "code",
   "execution_count": null,
   "metadata": {},
   "outputs": [],
   "source": [
    "# Reshape into (M, N)\n",
    "binary_matrix = binary_sequence.reshape(M, N)\n",
    "print(binary_matrix)"
   ]
  },
  {
   "cell_type": "code",
   "execution_count": null,
   "metadata": {},
   "outputs": [],
   "source": [
    "# Convert each row to a decimal number\n",
    "decimal_vector = np.array([int(''.join(map(str, row)), 2) for row in binary_matrix])\n",
    "# # Reshape to (64, 1)\n",
    "# decimal_vector = decimal_vector.reshape(-1, 1)\n",
    "print(decimal_vector)"
   ]
  },
  {
   "cell_type": "code",
   "execution_count": null,
   "metadata": {},
   "outputs": [],
   "source": [
    "import numpy as np\n",
    "\n",
    "def qam4_modulate(bits):\n",
    "    \"\"\"\n",
    "    4-QAM modulation: Maps 2-bit pairs to QAM symbols.\n",
    "\n",
    "    Parameters:\n",
    "    bits (numpy array): 1D binary array (length should be even)\n",
    "\n",
    "    Returns:\n",
    "    numpy array: Complex symbols representing QAM modulation\n",
    "    \"\"\"\n",
    "    if len(bits) % 2 != 0:\n",
    "        raise ValueError(\"Input length must be even for 4-QAM modulation.\")\n",
    "\n",
    "    bit_pairs = bits.reshape(-1, 2)  # Reshape into pairs\n",
    "    symbol_map = {\n",
    "        (0, 0):  1+1j,  # 00 -> (1,1)\n",
    "        (0, 1):  1-1j,  # 01 -> (1,-1)\n",
    "        (1, 0): -1+1j,  # 10 -> (-1,1)\n",
    "        (1, 1): -1-1j   # 11 -> (-1,-1)\n",
    "    }\n",
    "    \n",
    "    symbols = np.array([symbol_map[tuple(pair)] for pair in bit_pairs])\n",
    "    return symbols\n",
    "\n",
    "def qam4_demodulate(symbols):\n",
    "    \"\"\"\n",
    "    4-QAM demodulation: Maps QAM symbols back to binary sequence.\n",
    "\n",
    "    Parameters:\n",
    "    symbols (numpy array): Complex-valued matrix received from QAM modulation\n",
    "\n",
    "    Returns:\n",
    "    numpy array: 2D binary array (same shape as input but with each element mapped to 2 bits)\n",
    "    \"\"\"\n",
    "    decision_map = {\n",
    "        1+1j: [0, 0],  # 00\n",
    "        1-1j: [0, 1],  # 01\n",
    "        -1+1j: [1, 0],  # 10\n",
    "        -1-1j: [1, 1]   # 11\n",
    "    }\n",
    "    \n",
    "    # Vectorized processing of each symbol in the input matrix\n",
    "    demodulated_bits = np.zeros((symbols.shape[0], symbols.shape[1] * 2), dtype=int)\n",
    "    \n",
    "    for i in range(symbols.shape[0]):\n",
    "        for j in range(symbols.shape[1]):\n",
    "            symbol = symbols[i, j]\n",
    "            closest_point = min(decision_map.keys(), key=lambda x: abs(x - symbol))\n",
    "            demodulated_bits[i, 2*j:2*j+2] = decision_map[closest_point]\n",
    "    \n",
    "    return demodulated_bits\n",
    "# Example Usage\n",
    "np.random.seed(42)  # For reproducibility\n",
    "input_bits = np.random.randint(0, 2, size=16)  # Random binary sequence of length 16\n",
    "modulated_symbols = qam4_modulate(input_bits)  # QAM Modulation"
   ]
  },
  {
   "cell_type": "code",
   "execution_count": null,
   "metadata": {},
   "outputs": [],
   "source": [
    "qam4_symbols = qam4_modulate(bits=binary_matrix)\n",
    "print(qam4_symbols)"
   ]
  },
  {
   "cell_type": "code",
   "execution_count": null,
   "metadata": {},
   "outputs": [],
   "source": [
    "qam4_symbols_reshaped = qam4_symbols.reshape(64, 4)\n",
    "print(qam4_symbols_reshaped)"
   ]
  },
  {
   "cell_type": "code",
   "execution_count": null,
   "metadata": {},
   "outputs": [],
   "source": [
    "I = np.eye(64)\n",
    "print(I)"
   ]
  },
  {
   "cell_type": "code",
   "execution_count": null,
   "metadata": {},
   "outputs": [],
   "source": [
    "def dft_matrix(N):\n",
    "    \"\"\"\n",
    "    Generates an N x N Discrete Fourier Transform (DFT) matrix.\n",
    "\n",
    "    Parameters:\n",
    "    N (int): Size of the DFT matrix.\n",
    "\n",
    "    Returns:\n",
    "    numpy.ndarray: N x N DFT matrix.\n",
    "    \"\"\"\n",
    "    n = np.arange(N)\n",
    "    k = n.reshape((N, 1))\n",
    "    omega = np.exp(-2j * np.pi * k * n / N)  # DFT formula\n",
    "    return omega\n",
    "\n",
    "# Generate a 4x4 DFT matrix\n",
    "dft_4x4 = dft_matrix(4)\n",
    "print(dft_4x4)"
   ]
  },
  {
   "cell_type": "code",
   "execution_count": null,
   "metadata": {},
   "outputs": [],
   "source": [
    "S = np.kron(I, dft_4x4)\n",
    "print(S)\n",
    "print(len(S))"
   ]
  },
  {
   "cell_type": "code",
   "execution_count": null,
   "metadata": {},
   "outputs": [],
   "source": [
    "S_vector = np.reshape(256 * 256, 1)\n",
    "print(S_vector)"
   ]
  },
  {
   "cell_type": "code",
   "execution_count": null,
   "metadata": {},
   "outputs": [],
   "source": [
    "# Channel generation\n",
    "tau = [0, 1, 2, 3]\n",
    "mu = [0, 1, 2, 3]"
   ]
  },
  {
   "cell_type": "code",
   "execution_count": null,
   "metadata": {},
   "outputs": [],
   "source": [
    "\n",
    "def generate_complex_gaussian_matrix(rows, cols, sigma):\n",
    "    \"\"\"\n",
    "    Generates a matrix of complex Gaussian random numbers.\n",
    "\n",
    "    Parameters:\n",
    "    - rows (int): Number of rows.\n",
    "    - cols (int): Number of columns.\n",
    "    - sigma (float): Standard deviation (square root of variance).\n",
    "\n",
    "    Returns:\n",
    "    - numpy.ndarray: (rows, cols) matrix of complex Gaussian numbers.\n",
    "    \"\"\"\n",
    "    real_part = np.random.normal(0, sigma / np.sqrt(2), (rows, cols))  # Real part ~ N(0, sigma^2/2)\n",
    "    imag_part = np.random.normal(0, sigma / np.sqrt(2), (rows, cols))  # Imaginary part ~ N(0, sigma^2/2)\n",
    "\n",
    "    complex_matrix = real_part + 1j * imag_part\n",
    "    return complex_matrix"
   ]
  },
  {
   "cell_type": "code",
   "execution_count": null,
   "metadata": {},
   "outputs": [],
   "source": [
    "sigma = 1\n",
    "complex_gaussian_matrix = generate_complex_gaussian_matrix(64, 4, sigma)\n",
    "print(complex_gaussian_matrix)"
   ]
  },
  {
   "cell_type": "code",
   "execution_count": null,
   "metadata": {},
   "outputs": [],
   "source": [
    "from scipy.linalg import dft\n",
    "\n",
    "def generate_otfs_receiver_noise(N, M, sigma):\n",
    "    \"\"\"\n",
    "    Generates receiver-processed noise for an OTFS system.\n",
    "\n",
    "    Parameters:\n",
    "    N (int): Size of the identity and DFT matrices (e.g., 64)\n",
    "    M (int): Number of columns in the noise matrix\n",
    "    sigma (float): Standard deviation of the Gaussian noise\n",
    "\n",
    "    Returns:\n",
    "    numpy.ndarray: Processed noise matrix (N x M)\n",
    "    \"\"\"\n",
    "    # Step 1: Generate Identity Matrix (N x N)\n",
    "    I_N = np.eye(N)\n",
    "\n",
    "    # Step 2: Generate DFT Matrix (N x N)\n",
    "    F_N = dft(N)  # DFT matrix\n",
    "\n",
    "    # Step 3: Generate Complex Gaussian Noise Matrix (N x M)\n",
    "    W = np.random.normal(0, sigma, (N, M)) + 1j * np.random.normal(0, sigma, (N, M))\n",
    "\n",
    "    # Step 4: Compute Processed Noise\n",
    "    N_processed = np.conj(F_N.T) @ W @ I_N  # Apply transformations\n",
    "\n",
    "    return N_processed"
   ]
  },
  {
   "cell_type": "code",
   "execution_count": null,
   "metadata": {},
   "outputs": [],
   "source": [
    "# Noise generation"
   ]
  },
  {
   "cell_type": "code",
   "execution_count": null,
   "metadata": {},
   "outputs": [],
   "source": [
    "pi = np.roll(np.eye(64 * 4), shift=1)\n",
    "print(pi)"
   ]
  },
  {
   "cell_type": "code",
   "execution_count": null,
   "metadata": {},
   "outputs": [],
   "source": [
    "# Define the diagonal elements\n",
    "i_values = np.arange(64 * 4)  # i ranges from 0 to 255\n",
    "diagonal_elements = np.exp(1j * i_values * 2 * np.pi / 64)  # e^(i*j*2*pi/64)\n",
    "\n",
    "# Create a diagonal matrix using np.diag()\n",
    "delta = np.diag(diagonal_elements)\n",
    "\n",
    "# Print the result\n",
    "print(\"Diagonal Matrix:\\n\", delta)"
   ]
  },
  {
   "cell_type": "code",
   "execution_count": null,
   "metadata": {},
   "outputs": [],
   "source": [
    "H = np.matmul(np.roll(pi, shift=0), np.linalg.matrix_power(delta, 0))\n",
    "for i in range(1, 4):\n",
    "    H = np.add(np.matmul(np.roll(pi, i), np.linalg.matrix_power(delta, i)), H)\n",
    "\n",
    "print(H)"
   ]
  },
  {
   "cell_type": "code",
   "execution_count": null,
   "metadata": {},
   "outputs": [],
   "source": [
    "H_eff = np.matmul(np.matmul(np.kron(dft_4x4, I), H), np.kron(np.conj(dft_4x4), I))\n",
    "print(H_eff)"
   ]
  },
  {
   "cell_type": "code",
   "execution_count": null,
   "metadata": {},
   "outputs": [],
   "source": [
    "print(len(H_eff))\n",
    "print(len(H_eff[0]))"
   ]
  },
  {
   "cell_type": "code",
   "execution_count": null,
   "metadata": {},
   "outputs": [],
   "source": [
    "print(len(qam4_symbols))"
   ]
  },
  {
   "cell_type": "code",
   "execution_count": null,
   "metadata": {},
   "outputs": [],
   "source": [
    "complex_gaussian_matrix_reshaped = complex_gaussian_matrix.reshape(64 * 4, 1)\n",
    "print(complex_gaussian_matrix_reshaped)"
   ]
  },
  {
   "cell_type": "code",
   "execution_count": null,
   "metadata": {},
   "outputs": [],
   "source": [
    "w_tilde = np.matmul(np.kron(dft_4x4, I), complex_gaussian_matrix_reshaped)\n",
    "print(w_tilde)\n",
    "print(len(w_tilde))\n",
    "print(len(w_tilde[0]))"
   ]
  },
  {
   "cell_type": "code",
   "execution_count": null,
   "metadata": {},
   "outputs": [],
   "source": [
    "qam4_symbols_256_1 = qam4_symbols.reshape(256, 1)\n",
    "print(len(qam4_symbols_256_1))\n",
    "print(len(qam4_symbols_256_1[0]))\n",
    "y = (H_eff @ qam4_symbols_256_1) + w_tilde\n",
    "print(y)\n",
    "print(len(y))\n",
    "print(len(y[0]))"
   ]
  },
  {
   "cell_type": "code",
   "execution_count": null,
   "metadata": {},
   "outputs": [],
   "source": [
    "x_cap = np.matmul(np.linalg.inv(H_eff), y)\n",
    "print(x_cap)"
   ]
  },
  {
   "cell_type": "code",
   "execution_count": null,
   "metadata": {},
   "outputs": [],
   "source": [
    "x_cap_demodulated = qam4_demodulate(x_cap)\n",
    "print(x_cap_demodulated)"
   ]
  },
  {
   "cell_type": "code",
   "execution_count": null,
   "metadata": {},
   "outputs": [],
   "source": [
    "print(len(x_cap_demodulated))\n",
    "print(len(x_cap_demodulated[0]))"
   ]
  },
  {
   "cell_type": "code",
   "execution_count": null,
   "metadata": {},
   "outputs": [],
   "source": [
    "x_cap_demodulated_512 = x_cap_demodulated.reshape(256 * 2, 1)\n",
    "print(x_cap_demodulated_512)\n",
    "print(len(x_cap_demodulated_512))\n",
    "print(len(x_cap_demodulated_512[0]))"
   ]
  },
  {
   "cell_type": "code",
   "execution_count": null,
   "metadata": {},
   "outputs": [],
   "source": [
    "count:int = 0\n",
    "for i in range(len(x_cap_demodulated_512)):\n",
    "    if(x_cap_demodulated_512[i] != binary_sequence[i]):\n",
    "        count += 1\n",
    "print(count)"
   ]
  }
 ],
 "metadata": {
  "kernelspec": {
   "display_name": "irsenv",
   "language": "python",
   "name": "python3"
  },
  "language_info": {
   "codemirror_mode": {
    "name": "ipython",
    "version": 3
   },
   "file_extension": ".py",
   "mimetype": "text/x-python",
   "name": "python",
   "nbconvert_exporter": "python",
   "pygments_lexer": "ipython3",
   "version": "3.12.4"
  }
 },
 "nbformat": 4,
 "nbformat_minor": 2
}
