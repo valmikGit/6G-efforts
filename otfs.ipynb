{
 "cells": [
  {
   "cell_type": "code",
   "execution_count": 130,
   "metadata": {},
   "outputs": [],
   "source": [
    "import numpy as np\n",
    "from scipy.fft import ifft2"
   ]
  },
  {
   "cell_type": "code",
   "execution_count": 131,
   "metadata": {},
   "outputs": [],
   "source": [
    "def qpsk_mapper(bits):\n",
    "    bit_pairs = bits.reshape(-1, 2)\n",
    "    symbols = (1 - 2 * bit_pairs[:, 0]) + 1j * (1 - 2 * bit_pairs[:, 1])\n",
    "    return symbols"
   ]
  },
  {
   "cell_type": "code",
   "execution_count": 132,
   "metadata": {},
   "outputs": [
    {
     "name": "stdout",
     "output_type": "stream",
     "text": [
      "[ 1.-1.j -1.+1.j -1.-1.j  1.+1.j]\n"
     ]
    }
   ],
   "source": [
    "print(qpsk_mapper(np.array([0, 1, 1, 0, 1, 1, 0, 0])))"
   ]
  },
  {
   "cell_type": "code",
   "execution_count": 133,
   "metadata": {},
   "outputs": [],
   "source": [
    "def qpsk_demapper(symbols):\n",
    "    bits = np.zeros(2 * len(symbols), dtype=int)\n",
    "    bits[0::2] = symbols.real < 0  # MSB decision (Real part)\n",
    "    bits[1::2] = symbols.imag < 0  # LSB decision (Imaginary part)\n",
    "    return bits"
   ]
  },
  {
   "cell_type": "code",
   "execution_count": 134,
   "metadata": {},
   "outputs": [
    {
     "name": "stdout",
     "output_type": "stream",
     "text": [
      "[0 1 1 0 1 1 0 0]\n"
     ]
    }
   ],
   "source": [
    "print(qpsk_demapper(qpsk_mapper(np.array([0,1,1,0,1,1,0,0]))))"
   ]
  },
  {
   "cell_type": "code",
   "execution_count": 135,
   "metadata": {},
   "outputs": [
    {
     "name": "stdout",
     "output_type": "stream",
     "text": [
      "[[ 0.   -0.125j  0.5  +0.375j -0.5  +0.375j  0.   -0.125j]\n",
      " [-0.125-0.25j  -0.375+0.j    -0.125+0.25j   0.125+0.j   ]\n",
      " [ 0.   -0.375j  0.   +0.125j  0.   -0.375j  0.   +0.125j]\n",
      " [-0.375+0.25j  -0.125+0.5j    0.125+0.25j  -0.125+0.j   ]]\n"
     ]
    }
   ],
   "source": [
    "def apply_isfft(symbols, M, N):\n",
    "    # Reshape input symbols into M x N matrix\n",
    "    X = symbols.reshape(M, N)\n",
    "    \n",
    "    # Apply 2D inverse FFT (ISFFT)\n",
    "    transformed_output = ifft2(X)\n",
    "    \n",
    "    return transformed_output\n",
    "\n",
    "# Example Test\n",
    "M, N = 4, 4  # Example OTFS frame size\n",
    "qpsk_symbols = np.random.choice([1+1j, 1-1j, -1+1j, -1-1j], size=(M * N))  # Random QPSK symbols\n",
    "isfft_output = apply_isfft(qpsk_symbols, M, N)\n",
    "print(isfft_output)"
   ]
  },
  {
   "cell_type": "code",
   "execution_count": 136,
   "metadata": {},
   "outputs": [
    {
     "name": "stdout",
     "output_type": "stream",
     "text": [
      "\n",
      "ISFFT Output:\n",
      " [[ 0.   +0.j     0.   +0.j    -0.25 +0.25j   0.25 -0.25j ]\n",
      " [-0.125-0.625j -0.125-0.375j -0.625-0.125j -0.125+0.125j]\n",
      " [ 0.   -0.25j   0.25 +0.j    -0.25 +0.5j    0.   -0.25j ]\n",
      " [ 0.125+0.375j -0.125-0.125j  0.125-0.125j -0.125-0.125j]]\n",
      "\n",
      "Heisenberg Transform Output:\n",
      " [-0.0625    -0.0625j      0.10669417-0.04419417j -0.0625    +0.08838835j\n",
      " -0.12542718-0.03167718j  0.0625    -0.0625j      0.01830583+0.04419417j\n",
      "  0.0625    +0.j         -0.02349053+0.07025947j -0.0625    +0.0625j\n",
      "  0.10669417-0.04419417j -0.0625    -0.08838835j -0.04376699+0.04998301j\n",
      "  0.0625    -0.0625j      0.01830583+0.04419417j  0.0625    +0.j\n",
      " -0.05731529+0.03643471j]\n"
     ]
    }
   ],
   "source": [
    "def apply_heisenberg_transform(isfft_output):\n",
    "    # Flatten the matrix to a 1D array and apply IFFT\n",
    "    transformed_output = np.fft.ifft(isfft_output.flatten())\n",
    "\n",
    "    return transformed_output\n",
    "\n",
    "# Example Test\n",
    "M, N = 4, 4  # Example OTFS frame size\n",
    "qpsk_symbols = np.random.choice([1+1j, 1-1j, -1+1j, -1-1j], size=(M * N))  # Random QPSK symbols\n",
    "isfft_output = apply_isfft(qpsk_symbols, M, N)\n",
    "heisenberg_output = apply_heisenberg_transform(isfft_output)\n",
    "\n",
    "print(\"\\nISFFT Output:\\n\", isfft_output)\n",
    "print(\"\\nHeisenberg Transform Output:\\n\", heisenberg_output)"
   ]
  },
  {
   "cell_type": "code",
   "execution_count": 137,
   "metadata": {},
   "outputs": [
    {
     "name": "stdout",
     "output_type": "stream",
     "text": [
      "\n",
      "Input QPSK Symbols Matrix:\n",
      " [[-1.+1.j -1.-1.j -1.-1.j -1.-1.j]\n",
      " [ 1.+1.j  1.+1.j -1.+1.j -1.+1.j]\n",
      " [ 1.-1.j -1.-1.j -1.+1.j -1.+1.j]\n",
      " [ 1.+1.j -1.-1.j  1.+1.j  1.+1.j]]\n",
      "\n",
      "ISFFT Output (M x N):\n",
      " [[-0.25+0.25j  0.5 +0.j    0.25+0.25j  0.  +0.j  ]\n",
      " [-0.25-0.25j -0.5 +0.25j  0.  +0.j    0.25+0.5j ]\n",
      " [-0.5 -0.5j   0.  +0.j    0.  +0.j    0.  +0.j  ]\n",
      " [ 0.  +0.j    0.  +0.25j -0.25+0.25j -0.25+0.j  ]]\n",
      "\n",
      "Heisenberg Transform Output (Flattened Time-Domain Signal):\n",
      " [-0.0625    +0.0625j      0.03125   +0.04161942j  0.05713835+0.07544417j\n",
      " -0.05774247+0.12024247j -0.0625    -0.0625j      0.03125   +0.06871601j\n",
      " -0.03125   +0.01294417j -0.02391771+0.08641771j -0.0625    -0.0625j\n",
      "  0.03125   +0.10926893j -0.11963835-0.01294417j  0.05774247+0.00475753j\n",
      " -0.0625    -0.0625j      0.03125   -0.09460436j -0.03125   -0.07544417j\n",
      "  0.02391771+0.03858229j]\n",
      "\n",
      "Wigner Transform Output (M x N Matrix):\n",
      " [[-0.25      +2.50000000e-01j -0.25      -2.50000000e-01j\n",
      "  -0.5       -5.00000000e-01j  0.        +0.00000000e+00j]\n",
      " [ 0.3608359 +3.09059206e-01j -0.49613493-1.94358231e-01j\n",
      "   0.16949418+1.17717490e-01j -0.03419516+2.67581535e-01j]\n",
      " [ 0.        +4.26776695e-01j  0.1767767 +1.38777878e-17j\n",
      "   0.        +7.32233047e-02j -0.1767767 +1.38777878e-17j]\n",
      " [-0.23825239+2.13388348e-01j -0.22368737+3.66116524e-02j\n",
      "   0.41502909+2.13388348e-01j  0.04691068+3.66116524e-02j]]\n",
      "\n",
      "SFFT Output (M x N Matrix):\n",
      " [[-1.        +1.j         -0.92387953+1.92387953j  0.91421356+1.20710678j\n",
      "   0.5       +0.66591068j]\n",
      " [-1.        -1.j          0.38268343+0.61731657j -0.5       -1.20710678j\n",
      "   0.5       -1.51366975j]\n",
      " [-1.        -1.j          0.92387953+0.07612047j -1.91421356-0.20710678j\n",
      "   0.5       +1.74830288j]\n",
      " [-1.        -1.j         -0.38268343+1.38268343j -0.5       +0.20710678j\n",
      "   0.5       +1.09945618j]]\n",
      "\n",
      "QPSK Demodulated Symbols (M x N Matrix):\n",
      " [1 0 1 0 0 0 0 0 1 1 0 0 1 1 0 1 1 1 0 0 1 1 0 0 1 1 1 0 1 0 0 0]\n"
     ]
    }
   ],
   "source": [
    "import numpy as np\n",
    "from scipy.fft import ifft2, fft2\n",
    "\n",
    "def apply_isfft(symbols, M, N):\n",
    "    \"\"\"\n",
    "    Applies Inverse Symplectic Finite Fourier Transform (ISFFT) on input symbols.\n",
    "\n",
    "    Parameters:\n",
    "    symbols (numpy array): Input complex symbols (M*N elements).\n",
    "    M (int): Number of delay bins.\n",
    "    N (int): Number of Doppler bins.\n",
    "\n",
    "    Returns:\n",
    "    numpy array: M x N matrix after ISFFT.\n",
    "    \"\"\"\n",
    "    X = symbols.reshape(M, N)  # Reshape to M x N matrix\n",
    "    transformed_output = ifft2(X)  # Apply 2D inverse FFT (ISFFT)\n",
    "    \n",
    "    return transformed_output\n",
    "\n",
    "def apply_heisenberg_transform(isfft_output):\n",
    "    \"\"\"\n",
    "    Applies Heisenberg transform to convert ISFFT output to time domain.\n",
    "\n",
    "    Parameters:\n",
    "    isfft_output (numpy array): M x N ISFFT output matrix.\n",
    "\n",
    "    Returns:\n",
    "    numpy array: 1D time-domain sequence (M*N elements).\n",
    "    \"\"\"\n",
    "    return np.fft.ifft(isfft_output.flatten())  # Apply 1D IFFT\n",
    "\n",
    "def apply_wigner_transform(heisenberg_output, M, N):\n",
    "    \"\"\"\n",
    "    Applies Wigner transform (SFFT) to convert time-domain signal back to delay-Doppler domain.\n",
    "\n",
    "    Parameters:\n",
    "    heisenberg_output (numpy array): 1D time-domain sequence (M*N elements).\n",
    "    M (int): Number of delay bins.\n",
    "    N (int): Number of Doppler bins.\n",
    "\n",
    "    Returns:\n",
    "    numpy array: M x N Wigner transformed matrix.\n",
    "    \"\"\"\n",
    "    reshaped_input = heisenberg_output.reshape(M, N)  # Reshape to M x N matrix\n",
    "    transformed_output = fft2(reshaped_input)  # Apply 2D FFT (SFFT)\n",
    "    \n",
    "    return transformed_output\n",
    "\n",
    "def apply_sfft(wigner_output):\n",
    "    \"\"\"\n",
    "    Applies Symplectic Finite Fourier Transform (SFFT) on input data.\n",
    "\n",
    "    Parameters:\n",
    "    wigner_output (numpy array): M x N Wigner transformed matrix.\n",
    "\n",
    "    Returns:\n",
    "    numpy array: M x N matrix after applying SFFT.\n",
    "    \"\"\"\n",
    "    transformed_output = fft2(wigner_output)  # Apply 2D FFT (SFFT)\n",
    "    return transformed_output\n",
    "\n",
    "def apply_qpsk_demodulation_to_bitstream(sfft_output):\n",
    "    \"\"\"\n",
    "    Demodulates QPSK symbols and returns a 1D binary sequence.\n",
    "\n",
    "    Parameters:\n",
    "    sfft_output (numpy array): M x N matrix containing received complex symbols.\n",
    "\n",
    "    Returns:\n",
    "    numpy array: 1D binary sequence (length M*N*2).\n",
    "    \"\"\"\n",
    "    qpsk_mapping = {\n",
    "        1+1j: [0, 0],\n",
    "        1-1j: [0, 1],\n",
    "        -1+1j: [1, 0],\n",
    "        -1-1j: [1, 1]\n",
    "    }\n",
    "\n",
    "    # Find the closest QPSK symbol and map it to bits\n",
    "    demodulated_bits = np.array([\n",
    "        qpsk_mapping[min(qpsk_mapping.keys(), key=lambda x: abs(x - val))]\n",
    "        for val in sfft_output.flatten()\n",
    "    ]).flatten()  # Convert to 1D binary sequence\n",
    "\n",
    "    return demodulated_bits\n",
    "\n",
    "# Example Test\n",
    "M, N = 4, 4  # Example OTFS frame size\n",
    "qpsk_symbols = np.random.choice([1+1j, 1-1j, -1+1j, -1-1j], size=(M * N))  # Random QPSK symbols\n",
    "\n",
    "# Step 1: Apply ISFFT\n",
    "isfft_output = apply_isfft(qpsk_symbols, M, N)\n",
    "\n",
    "# Step 2: Apply Heisenberg Transform\n",
    "heisenberg_output = apply_heisenberg_transform(isfft_output)\n",
    "\n",
    "# Step 3: Apply Wigner Transform (SFFT)\n",
    "wigner_output = apply_wigner_transform(heisenberg_output, M, N)\n",
    "\n",
    "# Step 4: Apply SFFT\n",
    "sfft_output = apply_sfft(wigner_output=wigner_output)\n",
    "\n",
    "# Step 5: Apply QPSK Demodulation\n",
    "demodulated_symbols = apply_qpsk_demodulation_to_bitstream(sfft_output)\n",
    "\n",
    "# Print Outputs\n",
    "print(\"\\nInput QPSK Symbols Matrix:\\n\", qpsk_symbols.reshape(M, N))\n",
    "print(\"\\nISFFT Output (M x N):\\n\", isfft_output)\n",
    "print(\"\\nHeisenberg Transform Output (Flattened Time-Domain Signal):\\n\", heisenberg_output)\n",
    "print(\"\\nWigner Transform Output (M x N Matrix):\\n\", wigner_output)\n",
    "print(\"\\nSFFT Output (M x N Matrix):\\n\", sfft_output)\n",
    "print(\"\\nQPSK Demodulated Symbols (M x N Matrix):\\n\", demodulated_symbols)"
   ]
  },
  {
   "cell_type": "code",
   "execution_count": 138,
   "metadata": {},
   "outputs": [
    {
     "name": "stdout",
     "output_type": "stream",
     "text": [
      "[1 1 1 1 1 1 0 0 1 1 1 0 0 0 0 0 1 0 1 1 1 0 1 0 0 1 1 1 1 0 0 0]\n",
      "[1 1 0 0 1 0 0 1 1 1 1 1 0 0 1 1 1 1 1 0 1 0 1 0 0 0 0 0 1 0 0 0]\n"
     ]
    }
   ],
   "source": [
    "input_bits = np.random.randint(0, 2, size=32)\n",
    "qpsk_modulate = qpsk_mapper(input_bits)\n",
    "isfft_output = apply_isfft(qpsk_modulate, 4, 4)\n",
    "heisenberg_output = apply_heisenberg_transform(isfft_output=isfft_output)\n",
    "wigner_output = apply_wigner_transform(heisenberg_output=heisenberg_output, M=4, N=4)\n",
    "sfft_output = apply_sfft(wigner_output=wigner_output)\n",
    "output_bits = apply_qpsk_demodulation_to_bitstream(sfft_output=sfft_output)\n",
    "print(input_bits)\n",
    "print(output_bits)"
   ]
  }
 ],
 "metadata": {
  "kernelspec": {
   "display_name": "irsenv",
   "language": "python",
   "name": "python3"
  },
  "language_info": {
   "codemirror_mode": {
    "name": "ipython",
    "version": 3
   },
   "file_extension": ".py",
   "mimetype": "text/x-python",
   "name": "python",
   "nbconvert_exporter": "python",
   "pygments_lexer": "ipython3",
   "version": "3.12.4"
  }
 },
 "nbformat": 4,
 "nbformat_minor": 2
}
