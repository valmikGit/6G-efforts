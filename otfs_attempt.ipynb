{
  "nbformat": 4,
  "nbformat_minor": 0,
  "metadata": {
    "colab": {
      "provenance": []
    },
    "kernelspec": {
      "name": "python3",
      "display_name": "Python 3"
    },
    "language_info": {
      "name": "python"
    }
  },
  "cells": [
    {
      "cell_type": "code",
      "execution_count": 1,
      "metadata": {
        "id": "lFfeOq0cy_OK"
      },
      "outputs": [],
      "source": [
        "import numpy as np\n",
        "from scipy.fft import ifft2"
      ]
    },
    {
      "cell_type": "code",
      "source": [
        "def qpsk_mapper(bits):\n",
        "    bit_pairs = bits.reshape(-1, 2)\n",
        "    symbols = (1 - 2 * bit_pairs[:, 0]) + 1j * (1 - 2 * bit_pairs[:, 1])\n",
        "    return symbols"
      ],
      "metadata": {
        "id": "O42Q0OcJzxtM"
      },
      "execution_count": 2,
      "outputs": []
    },
    {
      "cell_type": "code",
      "source": [
        "print(qpsk_mapper(np.array([0, 1, 1, 0, 1, 1, 0, 0])))"
      ],
      "metadata": {
        "colab": {
          "base_uri": "https://localhost:8080/"
        },
        "id": "MwijT6W9zzN7",
        "outputId": "34c52270-13dc-460b-b698-c0324fad22b4"
      },
      "execution_count": 3,
      "outputs": [
        {
          "output_type": "stream",
          "name": "stdout",
          "text": [
            "[ 1.-1.j -1.+1.j -1.-1.j  1.+1.j]\n"
          ]
        }
      ]
    },
    {
      "cell_type": "code",
      "source": [
        "def qpsk_demapper(symbols):\n",
        "    bits = np.zeros(2 * len(symbols), dtype=int)\n",
        "    bits[0::2] = symbols.real < 0  # MSB decision (Real part)\n",
        "    bits[1::2] = symbols.imag < 0  # LSB decision (Imaginary part)\n",
        "    return bits"
      ],
      "metadata": {
        "id": "4txemwylz0_Y"
      },
      "execution_count": 4,
      "outputs": []
    },
    {
      "cell_type": "code",
      "source": [
        "print(qpsk_demapper(qpsk_mapper(np.array([0,1,1,0,1,1,0,0]))))"
      ],
      "metadata": {
        "colab": {
          "base_uri": "https://localhost:8080/"
        },
        "id": "TiSmwegnz20a",
        "outputId": "0f43fc55-b253-417b-b2e0-ab5db818233f"
      },
      "execution_count": 5,
      "outputs": [
        {
          "output_type": "stream",
          "name": "stdout",
          "text": [
            "[0 1 1 0 1 1 0 0]\n"
          ]
        }
      ]
    },
    {
      "cell_type": "code",
      "source": [
        "def apply_isfft(symbols, M, N):\n",
        "    # Reshape input symbols into M x N matrix\n",
        "    X = symbols.reshape(M, N)\n",
        "\n",
        "    # Apply 2D inverse FFT (ISFFT)\n",
        "    transformed_output = ifft2(X)\n",
        "\n",
        "    return transformed_output\n",
        "\n",
        "# Example Test\n",
        "M, N = 4, 4  # Example OTFS frame size\n",
        "qpsk_symbols = np.random.choice([1+1j, 1-1j, -1+1j, -1-1j], size=(M * N))  # Random QPSK symbols\n",
        "isfft_output = apply_isfft(qpsk_symbols, M, N)\n",
        "print(isfft_output)"
      ],
      "metadata": {
        "colab": {
          "base_uri": "https://localhost:8080/"
        },
        "id": "VqOBdwtIz3yA",
        "outputId": "b0a61c9f-45c2-41b4-e3d3-b21f6de8c5f4"
      },
      "execution_count": 6,
      "outputs": [
        {
          "output_type": "stream",
          "name": "stdout",
          "text": [
            "[[ 0.125-0.125j  0.   -0.25j   0.375-0.125j  0.   -0.5j  ]\n",
            " [-0.25 +0.j     0.125+0.125j -0.25 +0.25j  -0.125-0.375j]\n",
            " [-0.125-0.125j  0.   +0.5j   -0.375-0.125j  0.   -0.25j ]\n",
            " [-0.25 -0.25j  -0.125-0.375j -0.25 +0.5j    0.125+0.125j]]\n"
          ]
        }
      ]
    },
    {
      "cell_type": "code",
      "source": [
        "def apply_heisenberg_transform(isfft_output):\n",
        "    # Flatten the matrix to a 1D array and apply IFFT\n",
        "    transformed_output = np.fft.ifft(isfft_output.flatten())\n",
        "\n",
        "    return transformed_output\n",
        "\n",
        "# Example Test\n",
        "M, N = 4, 4  # Example OTFS frame size\n",
        "qpsk_symbols = np.random.choice([1+1j, 1-1j, -1+1j, -1-1j], size=(M * N))  # Random QPSK symbols\n",
        "isfft_output = apply_isfft(qpsk_symbols, M, N)\n",
        "heisenberg_output = apply_heisenberg_transform(isfft_output)\n",
        "\n",
        "print(\"\\nISFFT Output:\\n\", isfft_output)\n",
        "print(\"\\nHeisenberg Transform Output:\\n\", heisenberg_output)"
      ],
      "metadata": {
        "colab": {
          "base_uri": "https://localhost:8080/"
        },
        "id": "dJmBF9kAz5fK",
        "outputId": "80d4ad63-3f95-4c49-816d-137decb8b81c"
      },
      "execution_count": 7,
      "outputs": [
        {
          "output_type": "stream",
          "name": "stdout",
          "text": [
            "\n",
            "ISFFT Output:\n",
            " [[-0.125+0.5j    0.25 -0.125j -0.125+0.25j   0.   -0.125j]\n",
            " [ 0.5  -0.125j -0.125-0.25j  -0.5  -0.375j  0.625-0.25j ]\n",
            " [ 0.125+0.j     0.   -0.125j  0.125-0.25j  -0.25 -0.125j]\n",
            " [ 0.   +0.125j  0.375+0.j     0.   -0.125j  0.125+0.j   ]]\n",
            "\n",
            "Heisenberg Transform Output:\n",
            " [ 0.0625    -0.0625j      0.02391771+0.08641771j -0.01830583+0.01830583j\n",
            " -0.09417718-0.02546117j  0.0625    +0.0625j      0.05774247+0.12024247j\n",
            " -0.04419417-0.04419417j  0.00775947+0.04937888j -0.0625    +0.0625j\n",
            " -0.02391771+0.03858229j -0.10669417+0.10669417j -0.01251699-0.10712135j\n",
            "  0.0625    +0.0625j     -0.05774247+0.00475753j  0.04419417+0.04419417j\n",
            " -0.02606529+0.08320364j]\n"
          ]
        }
      ]
    },
    {
      "cell_type": "code",
      "source": [
        "def add_awgn(signal, snr_db):\n",
        "    snr_linear = 10 ** (snr_db / 10)\n",
        "    signal_power = np.mean(np.abs(signal) ** 2)\n",
        "    noise_power = signal_power / snr_linear\n",
        "\n",
        "    # Generate complex Gaussian noise\n",
        "    noise = np.sqrt(noise_power / 2) * (np.random.randn(*signal.shape) + 1j * np.random.randn(*signal.shape))\n",
        "\n",
        "    # Add noise to signal\n",
        "    received_signal = signal + noise\n",
        "\n",
        "    return received_signal\n"
      ],
      "metadata": {
        "id": "XhkOgfFN0D_2"
      },
      "execution_count": 10,
      "outputs": []
    },
    {
      "cell_type": "code",
      "source": [
        "snr_value = 10  # Example SNR in dB\n",
        "noisy_signal = add_awgn(heisenberg_output, snr_value)\n",
        "print(noisy_signal)"
      ],
      "metadata": {
        "colab": {
          "base_uri": "https://localhost:8080/"
        },
        "id": "MfLaftry0fWi",
        "outputId": "fe2cf2ae-5809-4c94-8752-1fda201f6caa"
      },
      "execution_count": 13,
      "outputs": [
        {
          "output_type": "stream",
          "name": "stdout",
          "text": [
            "[ 0.07246159+0.05750162j  0.08319723-0.03424418j  0.00917569-0.14425097j\n",
            " -0.04160603-0.0449446j  -0.07161885+0.04368475j  0.09249843-0.04299738j\n",
            " -0.00056739-0.05556718j  0.14918183-0.00562997j -0.0662426 +0.01642226j\n",
            "  0.10890306-0.0949521j   0.0325372 -0.01401645j -0.01428966-0.09246241j\n",
            "  0.0536337 +0.06983673j -0.01472249+0.05032004j  0.00287523-0.06607612j\n",
            " -0.06723925-0.00203626j]\n"
          ]
        }
      ]
    },
    {
      "cell_type": "code",
      "source": [
        "import numpy as np\n",
        "from scipy.fft import ifft2, fft2\n",
        "\n",
        "def apply_isfft(symbols, M, N):\n",
        "    \"\"\"\n",
        "    Applies Inverse Symplectic Finite Fourier Transform (ISFFT) on input symbols.\n",
        "\n",
        "    Parameters:\n",
        "    symbols (numpy array): Input complex symbols (M*N elements).\n",
        "    M (int): Number of delay bins.\n",
        "    N (int): Number of Doppler bins.\n",
        "\n",
        "    Returns:\n",
        "    numpy array: M x N matrix after ISFFT.\n",
        "    \"\"\"\n",
        "    X = symbols.reshape(M, N)  # Reshape to M x N matrix\n",
        "    transformed_output = ifft2(X)  # Apply 2D inverse FFT (ISFFT)\n",
        "\n",
        "    return transformed_output\n",
        "\n",
        "def apply_heisenberg_transform(isfft_output):\n",
        "    \"\"\"\n",
        "    Applies Heisenberg transform to convert ISFFT output to time domain.\n",
        "\n",
        "    Parameters:\n",
        "    isfft_output (numpy array): M x N ISFFT output matrix.\n",
        "\n",
        "    Returns:\n",
        "    numpy array: 1D time-domain sequence (M*N elements).\n",
        "    \"\"\"\n",
        "    return np.fft.ifft(isfft_output.flatten())  # Apply 1D IFFT\n",
        "\n",
        "def apply_wigner_transform(heisenberg_output, M, N):\n",
        "    \"\"\"\n",
        "    Applies Wigner transform (SFFT) to convert time-domain signal back to delay-Doppler domain.\n",
        "\n",
        "    Parameters:\n",
        "    heisenberg_output (numpy array): 1D time-domain sequence (M*N elements).\n",
        "    M (int): Number of delay bins.\n",
        "    N (int): Number of Doppler bins.\n",
        "\n",
        "    Returns:\n",
        "    numpy array: M x N Wigner transformed matrix.\n",
        "    \"\"\"\n",
        "    reshaped_input = heisenberg_output.reshape(M, N)  # Reshape to M x N matrix\n",
        "    transformed_output = fft2(reshaped_input)  # Apply 2D FFT (SFFT)\n",
        "\n",
        "    return transformed_output\n",
        "\n",
        "def apply_sfft(wigner_output):\n",
        "    \"\"\"\n",
        "    Applies Symplectic Finite Fourier Transform (SFFT) on input data.\n",
        "\n",
        "    Parameters:\n",
        "    wigner_output (numpy array): M x N Wigner transformed matrix.\n",
        "\n",
        "    Returns:\n",
        "    numpy array: M x N matrix after applying SFFT.\n",
        "    \"\"\"\n",
        "    transformed_output = fft2(wigner_output)  # Apply 2D FFT (SFFT)\n",
        "    return transformed_output\n",
        "\n",
        "def add_awgn(signal, snr_db):\n",
        "    snr_linear = 10 ** (snr_db / 10)\n",
        "    signal_power = np.mean(np.abs(signal) ** 2)\n",
        "    noise_power = signal_power / snr_linear\n",
        "\n",
        "    # Generate complex Gaussian noise\n",
        "    noise = np.sqrt(noise_power / 2) * (np.random.randn(*signal.shape) + 1j * np.random.randn(*signal.shape))\n",
        "\n",
        "    # Add noise to signal\n",
        "    received_signal = signal + noise\n",
        "\n",
        "    return received_signal\n",
        "\n",
        "\n",
        "def apply_qpsk_demodulation_to_bitstream(sfft_output):\n",
        "    \"\"\"\n",
        "    Demodulates QPSK symbols and returns a 1D binary sequence.\n",
        "\n",
        "    Parameters:\n",
        "    sfft_output (numpy array): M x N matrix containing received complex symbols.\n",
        "\n",
        "    Returns:\n",
        "    numpy array: 1D binary sequence (length M*N*2).\n",
        "    \"\"\"\n",
        "    qpsk_mapping = {\n",
        "        1+1j: [0, 0],\n",
        "        1-1j: [0, 1],\n",
        "        -1+1j: [1, 0],\n",
        "        -1-1j: [1, 1]\n",
        "    }\n",
        "\n",
        "    # Find the closest QPSK symbol and map it to bits\n",
        "    demodulated_bits = np.array([\n",
        "        qpsk_mapping[min(qpsk_mapping.keys(), key=lambda x: abs(x - val))]\n",
        "        for val in sfft_output.flatten()\n",
        "    ]).flatten()  # Convert to 1D binary sequence\n",
        "\n",
        "    return demodulated_bits\n",
        "\n",
        "# Example Test\n",
        "M, N = 4, 4  # Example OTFS frame size\n",
        "qpsk_symbols = np.random.choice([1+1j, 1-1j, -1+1j, -1-1j], size=(M * N))  # Random QPSK symbols\n",
        "\n",
        "# Step 1: Apply ISFFT\n",
        "isfft_output = apply_isfft(qpsk_symbols, M, N)\n",
        "\n",
        "# Step 2: Apply Heisenberg Transform\n",
        "heisenberg_output = apply_heisenberg_transform(isfft_output)\n",
        "\n",
        "snr_value = 10  # Example SNR in dB\n",
        "noisy_signal = add_awgn(heisenberg_output, snr_value)\n",
        "# print(noisy_signal)\n",
        "\n",
        "# Step 3: Apply Wigner Transform (SFFT)\n",
        "wigner_output = apply_wigner_transform(noisy_signal, M, N)\n",
        "\n",
        "# Step 4: Apply SFFT\n",
        "sfft_output = apply_sfft(wigner_output=wigner_output)\n",
        "\n",
        "# Step 5: Apply QPSK Demodulation\n",
        "demodulated_symbols = apply_qpsk_demodulation_to_bitstream(sfft_output)\n",
        "\n",
        "# Print Outputs\n",
        "print(\"\\nInput QPSK Symbols Matrix:\\n\", qpsk_symbols.reshape(M, N))\n",
        "print(\"\\nISFFT Output (M x N):\\n\", isfft_output)\n",
        "print(\"\\nHeisenberg Transform Output (Flattened Time-Domain Signal):\\n\", heisenberg_output)\n",
        "print(\"\\nNoisy Signal (AWGN Added):\\n\", noisy_signal)\n",
        "print(\"\\nWigner Transform Output (M x N Matrix):\\n\", wigner_output)\n",
        "print(\"\\nSFFT Output (M x N Matrix):\\n\", sfft_output)\n",
        "print(\"\\nQPSK Demodulated Symbols (M x N Matrix):\\n\", demodulated_symbols)"
      ],
      "metadata": {
        "colab": {
          "base_uri": "https://localhost:8080/"
        },
        "id": "EtKTC_5iz66U",
        "outputId": "b9bd1cd5-3b6b-4959-f98f-98fae6399b4a"
      },
      "execution_count": 14,
      "outputs": [
        {
          "output_type": "stream",
          "name": "stdout",
          "text": [
            "\n",
            "Input QPSK Symbols Matrix:\n",
            " [[-1.-1.j -1.-1.j  1.+1.j  1.-1.j]\n",
            " [ 1.-1.j -1.+1.j  1.+1.j  1.+1.j]\n",
            " [ 1.-1.j  1.-1.j  1.-1.j  1.+1.j]\n",
            " [-1.-1.j  1.+1.j  1.+1.j  1.-1.j]]\n",
            "\n",
            "ISFFT Output (M x N):\n",
            " [[ 0.5  -0.125j -0.25 -0.625j  0.   -0.125j -0.25 -0.125j]\n",
            " [-0.375+0.j    -0.125+0.j     0.125+0.5j   -0.125+0.j   ]\n",
            " [ 0.   -0.375j  0.25 +0.125j  0.   +0.125j -0.25 +0.125j]\n",
            " [-0.125+0.j    -0.375-0.5j   -0.125+0.j     0.125+0.j   ]]\n",
            "\n",
            "Heisenberg Transform Output (Flattened Time-Domain Signal):\n",
            " [-0.0625    -0.0625j     -0.00775947-0.08684489j  0.13794417-0.03125j\n",
            "  0.08899247+0.05152646j  0.0625    -0.0625j      0.09417718-0.05255776j\n",
            " -0.01294417-0.03125j     0.05516771+0.0447983j   0.0625    +0.0625j\n",
            "  0.02606529+0.04265072j  0.04955583-0.03125j    -0.02649247+0.09936189j\n",
            " -0.0625    -0.0625j      0.01251699+0.09675194j  0.07544417-0.03125j\n",
            "  0.00733229-0.07068664j]\n",
            "\n",
            "Noisy Signal (AWGN Added):\n",
            " [-0.06433932-0.05494734j -0.01769311-0.09363504j  0.13926484-0.04338499j\n",
            "  0.11279427+0.04375857j  0.03044519-0.05121075j  0.1019183 -0.05821509j\n",
            " -0.01387091+0.00577928j  0.05142876+0.03563866j  0.05957755+0.07321382j\n",
            "  0.0464087 +0.04058632j  0.08386684-0.03223961j -0.01463129+0.06815033j\n",
            " -0.04204139-0.04131104j  0.00249684+0.1246048j   0.10016772-0.02790174j\n",
            "  0.03702059-0.07238676j]\n",
            "\n",
            "Wigner Transform Output (M x N Matrix):\n",
            " [[ 0.61281359-0.08350059j -0.38760627+0.07697336j -0.02667251-0.26050417j\n",
            "  -0.26396665-0.02998985j]\n",
            " [-0.05620826-0.37019724j -0.41773848+0.17883171j -0.03326684+0.17468827j\n",
            "  -0.0280527 -0.78591368j]\n",
            " [ 0.07768337+0.08650468j -0.39809586+0.2497036j   0.20965521+0.02806755j\n",
            "   0.13809499+0.07887724j]\n",
            " [ 0.04581804-0.2256421j  -0.16055046-0.0298085j  -0.23041841-0.13607508j\n",
            "  -0.11091781+0.16882737j]]\n",
            "\n",
            "SFFT Output (M x N Matrix):\n",
            " [[-1.02942906-0.87915746j  1.80470838+0.70013706j  2.22823744-0.69415992j\n",
            "  -0.2830898 -1.49816071j]\n",
            " [-0.6726622 -0.66097667j  0.59232944-1.15818818j  1.60268359-0.44642782j\n",
            "   0.03994946+1.99367679j]\n",
            " [ 0.9532408 +1.17142108j -0.23410071+1.09040527j  1.34186949-0.51583383j\n",
            "   0.7425392 +0.64938119j]\n",
            " [ 0.48712309-0.81937196j  0.82286016+0.57021862j -0.2219345 +0.09246853j\n",
            "   1.63069273-0.93144144j]]\n",
            "\n",
            "QPSK Demodulated Symbols (M x N Matrix):\n",
            " [1 1 0 0 0 1 1 1 1 1 0 1 0 1 0 0 0 0 1 0 0 1 0 0 0 1 0 0 1 0 0 1]\n"
          ]
        }
      ]
    },
    {
      "cell_type": "code",
      "source": [
        "input_bits = np.random.randint(0, 2, size=32)\n",
        "qpsk_modulate = qpsk_mapper(input_bits)\n",
        "isfft_output = apply_isfft(qpsk_modulate, 4, 4)\n",
        "heisenberg_output = apply_heisenberg_transform(isfft_output=isfft_output)\n",
        "noisy_signal = add_awgn(heisenberg_output, snr_db=10)  # Adding AWGN noise with SNR of 10 dB\n",
        "wigner_output = apply_wigner_transform(heisenberg_output=noisy_signal, M=4, N=4)\n",
        "sfft_output = apply_sfft(wigner_output=wigner_output)\n",
        "output_bits = apply_qpsk_demodulation_to_bitstream(sfft_output=sfft_output)\n",
        "\n",
        "print(input_bits)\n",
        "print(output_bits)\n"
      ],
      "metadata": {
        "colab": {
          "base_uri": "https://localhost:8080/"
        },
        "id": "wuO3MRVZz8rF",
        "outputId": "6b43898a-8863-47c9-e698-e665fb3d0808"
      },
      "execution_count": 18,
      "outputs": [
        {
          "output_type": "stream",
          "name": "stdout",
          "text": [
            "[0 0 0 1 1 1 0 1 0 1 0 1 0 0 0 1 1 1 0 0 0 1 0 0 1 0 0 0 0 0 0 0]\n",
            "[0 0 0 1 0 1 1 1 0 1 0 1 1 0 0 0 1 1 0 1 0 0 0 0 0 1 0 0 1 1 0 0]\n"
          ]
        }
      ]
    },
    {
      "cell_type": "code",
      "source": [
        "import numpy as np\n",
        "import matplotlib.pyplot as plt\n",
        "from scipy.fft import ifft2, fft2\n",
        "\n",
        "# QPSK Mapper\n",
        "def qpsk_mapper(bits):\n",
        "    bit_pairs = bits.reshape(-1, 2)\n",
        "    symbols = (1 - 2 * bit_pairs[:, 0]) + 1j * (1 - 2 * bit_pairs[:, 1])\n",
        "    return symbols\n",
        "\n",
        "# QPSK Demapper\n",
        "def qpsk_demapper(symbols):\n",
        "    bits = np.zeros(2 * len(symbols), dtype=int)\n",
        "    bits[0::2] = symbols.real < 0\n",
        "    bits[1::2] = symbols.imag < 0\n",
        "    return bits\n",
        "\n",
        "# ISFFT\n",
        "def apply_isfft(symbols, M, N):\n",
        "    return ifft2(symbols.reshape(M, N))\n",
        "\n",
        "# Heisenberg Transform\n",
        "def apply_heisenberg_transform(isfft_output):\n",
        "    return np.fft.ifft(isfft_output.flatten())\n",
        "\n",
        "# Add AWGN Noise\n",
        "def add_awgn(signal, snr_db):\n",
        "    snr_linear = 10 ** (snr_db / 10)\n",
        "    signal_power = np.mean(np.abs(signal) ** 2)\n",
        "    noise_power = signal_power / snr_linear\n",
        "    noise = np.sqrt(noise_power / 2) * (np.random.randn(*signal.shape) + 1j * np.random.randn(*signal.shape))\n",
        "    return signal + noise\n",
        "\n",
        "# Wigner Transform (SFFT)\n",
        "def apply_wigner_transform(heisenberg_output, M, N):\n",
        "    return fft2(heisenberg_output.reshape(M, N))\n",
        "\n",
        "# SFFT\n",
        "def apply_sfft(wigner_output):\n",
        "    return fft2(wigner_output)\n",
        "\n",
        "# QPSK Demodulation\n",
        "def apply_qpsk_demodulation_to_bitstream(sfft_output):\n",
        "    return qpsk_demapper(sfft_output.flatten())\n",
        "\n",
        "# Compute BER for a given SNR\n",
        "def compute_ber(snr_db, num_bits=40000, M=10000, N=2):\n",
        "    input_bits = np.random.randint(0, 2, size=num_bits)\n",
        "    qpsk_modulated = qpsk_mapper(input_bits)\n",
        "    isfft_output = apply_isfft(qpsk_modulated, M, N)\n",
        "    heisenberg_output = apply_heisenberg_transform(isfft_output)\n",
        "    noisy_signal = add_awgn(heisenberg_output, snr_db)\n",
        "    wigner_output = apply_wigner_transform(noisy_signal, M, N)\n",
        "    sfft_output = apply_sfft(wigner_output)\n",
        "    output_bits = apply_qpsk_demodulation_to_bitstream(sfft_output)\n",
        "\n",
        "    bit_errors = np.sum(input_bits != output_bits[:num_bits])\n",
        "    ber = bit_errors / num_bits\n",
        "    return ber\n",
        "\n",
        "# Simulate BER vs. SNR\n",
        "snr_range = np.arange(0, 20, 2)  # SNR from 0 to 20 dB\n",
        "ber_values = [compute_ber(snr) for snr in snr_range]\n",
        "\n",
        "# Plot BER vs. SNR\n",
        "plt.figure(figsize=(8, 6))\n",
        "plt.semilogy(snr_range, ber_values, marker='o', linestyle='-', color='b')\n",
        "plt.xlabel(\"SNR (dB)\")\n",
        "plt.ylabel(\"Bit Error Rate (BER)\")\n",
        "plt.title(\"BER vs. SNR for OTFS System\")\n",
        "plt.grid(True, which='both')\n",
        "plt.show()\n"
      ],
      "metadata": {
        "colab": {
          "base_uri": "https://localhost:8080/",
          "height": 564
        },
        "id": "oZUzawh_z-R7",
        "outputId": "1eae5e80-2036-4376-e977-c87889d413bd"
      },
      "execution_count": 22,
      "outputs": [
        {
          "output_type": "display_data",
          "data": {
            "text/plain": [
              "<Figure size 800x600 with 1 Axes>"
            ],
            "image/png": "[encoded data removed]"
          },
          "metadata": {}
        }
      ]
    },
    {
      "cell_type": "code",
      "source": [],
      "metadata": {
        "id": "fIx2dPG02-8z"
      },
      "execution_count": null,
      "outputs": []
    }
  ]
}